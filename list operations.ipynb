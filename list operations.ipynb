{
 "cells": [
  {
   "cell_type": "code",
   "execution_count": 1,
   "metadata": {},
   "outputs": [
    {
     "name": "stdout",
     "output_type": "stream",
     "text": [
      "[24, 365, 26.44, 'guvi']\n"
     ]
    }
   ],
   "source": [
    "# DATE : 11-03-2024\n",
    "\n",
    "#LIST OPERATIONS\n",
    "\n",
    "a=[24,365,26.44,'guvi']\n",
    "print(a)"
   ]
  },
  {
   "cell_type": "code",
   "execution_count": 2,
   "metadata": {},
   "outputs": [
    {
     "name": "stdout",
     "output_type": "stream",
     "text": [
      "[24, 365, 26.44, 'guvi', 'Puma']\n",
      "[24, 365, 26.44, 'guvi', 'Puma', [24.8, 335, 'Raja']]\n"
     ]
    }
   ],
   "source": [
    "#APPEND - Add Somrthing in the last:\n",
    "a.append('Puma')\n",
    "print(a)\n",
    "\n",
    "a.append([24.8,335,'Raja'])\n",
    "print(a)"
   ]
  },
  {
   "cell_type": "code",
   "execution_count": 3,
   "metadata": {},
   "outputs": [
    {
     "name": "stdout",
     "output_type": "stream",
     "text": [
      "[24, 365, 26.44, 'guvi', 'Puma', [24.8, 335, 'Raja'], 'queen', 'king', 1997, 24.68]\n"
     ]
    }
   ],
   "source": [
    "#to add multiple elements in the list using for loop\n",
    "\n",
    "b=['queen','king',1997,24.68]\n",
    "for z in b:\n",
    "    a.append(z)\n",
    "print(a)\n"
   ]
  },
  {
   "cell_type": "code",
   "execution_count": 4,
   "metadata": {},
   "outputs": [
    {
     "name": "stdout",
     "output_type": "stream",
     "text": [
      "[55, 987, 26.48, 'Text', 'queen', 'king', 777]\n"
     ]
    }
   ],
   "source": [
    "#to add multiple elements in the list : #extend\n",
    "\n",
    "d=[55,987,26.48,'Text']\n",
    "d.extend(['queen','king',777])\n",
    "print(d)\n"
   ]
  },
  {
   "cell_type": "code",
   "execution_count": 5,
   "metadata": {},
   "outputs": [
    {
     "name": "stdout",
     "output_type": "stream",
     "text": [
      "[24, 365, 555, 26.44, 'guvi', 'Puma', [24.8, 335, 'Raja'], 'queen', 'king', 1997, 24.68]\n"
     ]
    }
   ],
   "source": [
    "#insert: inserting at a certain place using index function in the list :\n",
    "\n",
    "a.insert(2,555)\n",
    "print(a)"
   ]
  },
  {
   "cell_type": "code",
   "execution_count": 6,
   "metadata": {},
   "outputs": [
    {
     "name": "stdout",
     "output_type": "stream",
     "text": [
      "[24, 365, 'God', 26.44, 'guvi', 'Puma', [24.8, 335, 'Raja'], 'queen', 'king', 1997, 24.68]\n"
     ]
    }
   ],
   "source": [
    "#to replace a certain element in the list:\n",
    "a[2]='God'\n",
    "print(a)"
   ]
  },
  {
   "cell_type": "code",
   "execution_count": 5,
   "metadata": {},
   "outputs": [
    {
     "name": "stdout",
     "output_type": "stream",
     "text": [
      "[24, 365, 'God', 26.44, 'guvi', 'puma', [24.8, 335, '22']]\n"
     ]
    }
   ],
   "source": [
    "#to replace an element in the list, which is inside another list:\n",
    "a=[24,365,'God',26.44,\"guvi\",'puma',[24.8,335,'Raja']]\n",
    "a[6][2]='22'\n",
    "print(a)"
   ]
  },
  {
   "cell_type": "code",
   "execution_count": 7,
   "metadata": {},
   "outputs": [
    {
     "data": {
      "text/plain": [
       "2"
      ]
     },
     "execution_count": 7,
     "metadata": {},
     "output_type": "execute_result"
    }
   ],
   "source": [
    "#index : to find the index value \n",
    "\n",
    "c=[22,57,'God']\n",
    "c.index('God')"
   ]
  },
  {
   "cell_type": "code",
   "execution_count": 8,
   "metadata": {},
   "outputs": [
    {
     "name": "stdout",
     "output_type": "stream",
     "text": [
      "[22, 57, 'God', 25, 25, 25]\n"
     ]
    },
    {
     "data": {
      "text/plain": [
       "3"
      ]
     },
     "execution_count": 8,
     "metadata": {},
     "output_type": "execute_result"
    }
   ],
   "source": [
    "#Count : count how many times a same element is repeated in the list:\n",
    "\n",
    "c.extend([25,25,25])\n",
    "print(c)\n",
    "\n",
    "c.count(25)"
   ]
  },
  {
   "cell_type": "code",
   "execution_count": 9,
   "metadata": {},
   "outputs": [
    {
     "name": "stdout",
     "output_type": "stream",
     "text": [
      "[22, 57, 25, 25, 25]\n",
      "God\n"
     ]
    }
   ],
   "source": [
    "#POP : TO temperorily remove an element\n",
    "\n",
    "d=c.pop(2)\n",
    "print(c)\n",
    "print(d)\n"
   ]
  },
  {
   "cell_type": "code",
   "execution_count": 10,
   "metadata": {},
   "outputs": [
    {
     "name": "stdout",
     "output_type": "stream",
     "text": [
      "[22, 25, 25, 25]\n"
     ]
    }
   ],
   "source": [
    "#delete : del : to permanantly delete an element from the memory.(Not only the list)\n",
    "\n",
    "del c[1]\n",
    "print(c)"
   ]
  },
  {
   "cell_type": "code",
   "execution_count": 11,
   "metadata": {},
   "outputs": [
    {
     "name": "stdout",
     "output_type": "stream",
     "text": [
      "[998.956, 789, 556, 52.66, 27]\n"
     ]
    }
   ],
   "source": [
    "#Sort : To sort the list in the ascending order(variable.sort), use reverse=True to sort in descending order\n",
    "\n",
    "e=[556,789,52.66,27,998.956]\n",
    "e.sort(reverse=True)\n",
    "print(e)"
   ]
  },
  {
   "cell_type": "code",
   "execution_count": 12,
   "metadata": {},
   "outputs": [
    {
     "name": "stdout",
     "output_type": "stream",
     "text": [
      "998.956\n",
      "27\n",
      "2423.616\n"
     ]
    }
   ],
   "source": [
    "#only used in list or set, Dict contains numbers.\n",
    "#max = to find the maximum value\n",
    "#min - Minimum Value\n",
    "#sum - To add all the Values\n",
    "\n",
    "print(max(e))\n",
    "print(min(e))\n",
    "print(sum(e))"
   ]
  },
  {
   "cell_type": "code",
   "execution_count": null,
   "metadata": {},
   "outputs": [],
   "source": [
    "#Tuple \n",
    "\n",
    "#-Heterogeneous\n",
    "#-Immutable\n",
    "#-Ordered (by index)"
   ]
  },
  {
   "cell_type": "code",
   "execution_count": 13,
   "metadata": {},
   "outputs": [
    {
     "name": "stdout",
     "output_type": "stream",
     "text": [
      "53\n",
      "3.7\n",
      "King\n"
     ]
    }
   ],
   "source": [
    "x,y,z=(53,3.7,'King')\n",
    "print(x)\n",
    "print(y)\n",
    "print(z)"
   ]
  },
  {
   "cell_type": "code",
   "execution_count": null,
   "metadata": {},
   "outputs": [],
   "source": [
    "#Usage of Brackets :\n",
    "\n",
    "#[] - Operations of List, Particular Data\n",
    "#() - Functions / Methods\n",
    "#{} - Dictionary / Data "
   ]
  },
  {
   "cell_type": "code",
   "execution_count": null,
   "metadata": {},
   "outputs": [],
   "source": [
    "# STRINGS\n",
    "\n",
    "#Functions of Strings\n",
    "\n",
    "#variable.upper = Uppercase the String Completely\n",
    "#v.lower = Lowercase the complete string\n",
    "#v.Capitalize = Uppercase the 1st Letter of the String.\n",
    "#v.count = Counts the character in the string.\n",
    "#v.find = Finds the left most index value of a character in a string\n",
    "#v.rfind = Finds the right most index value of the character in a string\n",
    "#v.index = Finds the index value of a character in the string.\n",
    "#len(variable) = Finds the total characters in a string. Even counts the Space."
   ]
  },
  {
   "cell_type": "code",
   "execution_count": 14,
   "metadata": {},
   "outputs": [
    {
     "name": "stdout",
     "output_type": "stream",
     "text": [
      "HAPPY MORNING\n",
      "Happy morning\n",
      "happy morning\n",
      "1\n",
      "2\n",
      "11\n",
      "6\n",
      "13\n"
     ]
    }
   ],
   "source": [
    "#For Example :\n",
    "\n",
    "s=\"Happy Morning\"\n",
    "print(s.upper())\n",
    "print(s.capitalize())\n",
    "print(s.lower())\n",
    "print(s.count('a'))\n",
    "print(s.find('p'))\n",
    "print(s.rfind('n'))\n",
    "print(s.index('Mo'))\n",
    "print(len(s))\n"
   ]
  },
  {
   "cell_type": "code",
   "execution_count": 12,
   "metadata": {},
   "outputs": [
    {
     "name": "stdout",
     "output_type": "stream",
     "text": [
      "True\n",
      "True\n",
      "False\n",
      "True\n",
      "True\n",
      "False\n"
     ]
    }
   ],
   "source": [
    "a='5789'\n",
    "b='27Sky'\n",
    "c='Idly'\n",
    "d='     '\n",
    "print(a.isnumeric()) # Prints true if the string is only numnbers\n",
    "print(c.isalnum())   # Prints true if the string contains both alphabet & numnbers\n",
    "print(b.isalpha())   # Prints true if the string contains only alphabet\n",
    "print(d.isspace())   # Prints true if the string contains only space\n",
    "print(a.startswith('5'))\n",
    "print(b.endswith('j'))\n"
   ]
  },
  {
   "cell_type": "code",
   "execution_count": 32,
   "metadata": {},
   "outputs": [
    {
     "name": "stdout",
     "output_type": "stream",
     "text": [
      "['12', '34', '56', '78', '910']\n",
      "i Hello\n"
     ]
    }
   ],
   "source": [
    "a='Succesfull Morning Everyone, Have a Pleasant day'\n",
    "b='Hi HelloH'\n",
    "c='Government'\n",
    "d='12 34 56 78 910'\n",
    "print(d.split()) #Splits in the space and prints in the list.\n",
    "print(b.strip('H')) #Removes the element/Space only in the corners."
   ]
  },
  {
   "cell_type": "code",
   "execution_count": 44,
   "metadata": {},
   "outputs": [
    {
     "name": "stdout",
     "output_type": "stream",
     "text": [
      "['skydive']\n",
      "skydive\n"
     ]
    }
   ],
   "source": [
    "a=input().split() #Use split function to get list inputs.\n",
    "print(a)\n",
    "print(\"y\".join(a))  #Join/combines the string by the character given in the \"\""
   ]
  },
  {
   "cell_type": "code",
   "execution_count": 48,
   "metadata": {},
   "outputs": [
    {
     "name": "stdout",
     "output_type": "stream",
     "text": [
      "m\n",
      "o\n",
      "r\n",
      "n\n",
      "i\n",
      "n\n",
      "g\n"
     ]
    }
   ],
   "source": [
    "a=input()\n",
    "print(\"\\n\".join(a)) #\\n = New line (Prints in a new line)"
   ]
  },
  {
   "cell_type": "code",
   "execution_count": 57,
   "metadata": {},
   "outputs": [
    {
     "name": "stdout",
     "output_type": "stream",
     "text": [
      "C\to\tc\to\tn\tu\tt\n"
     ]
    }
   ],
   "source": [
    "a=input()\n",
    "print(\"\\t\".join(a)) #\\t = tab (Prints in a tab space)"
   ]
  },
  {
   "cell_type": "code",
   "execution_count": 58,
   "metadata": {},
   "outputs": [
    {
     "name": "stdout",
     "output_type": "stream",
     "text": [
      "\\n God\n",
      "\n",
      " God\n"
     ]
    }
   ],
   "source": [
    "print(r\"\\n God\") #r=raw string\n",
    "print(f\"\\n God\") #f=formatted string.\n",
    "\n"
   ]
  },
  {
   "cell_type": "code",
   "execution_count": 63,
   "metadata": {},
   "outputs": [
    {
     "name": "stdout",
     "output_type": "stream",
     "text": [
      "Good Morning Arivu\n"
     ]
    }
   ],
   "source": [
    "a=input()\n",
    "print(f'Good Morning {a}')"
   ]
  },
  {
   "cell_type": "code",
   "execution_count": 66,
   "metadata": {},
   "outputs": [
    {
     "name": "stdout",
     "output_type": "stream",
     "text": [
      "2024-03-12\n"
     ]
    }
   ],
   "source": [
    "import datetime\n",
    "print(datetime.date.today())"
   ]
  },
  {
   "cell_type": "code",
   "execution_count": 68,
   "metadata": {},
   "outputs": [
    {
     "name": "stdout",
     "output_type": "stream",
     "text": [
      "2024-03-12 10:42:29.179452\n"
     ]
    }
   ],
   "source": [
    "import datetime\n",
    "print(datetime.datetime.now())"
   ]
  },
  {
   "cell_type": "code",
   "execution_count": 76,
   "metadata": {},
   "outputs": [
    {
     "name": "stdout",
     "output_type": "stream",
     "text": [
      "Welcome Back Mr. Arivalagan!, The Date & time is 2024-03-12 10:52:14.926597\n"
     ]
    }
   ],
   "source": [
    "a=input()\n",
    "import datetime\n",
    "print(f'Welcome Back {a}!, The Date & time is',(datetime.datetime.now()))"
   ]
  },
  {
   "cell_type": "code",
   "execution_count": 80,
   "metadata": {},
   "outputs": [
    {
     "name": "stdout",
     "output_type": "stream",
     "text": [
      "Good morning Nirmal Guvi\n"
     ]
    }
   ],
   "source": [
    "#String formatting.\n",
    "print('Good morning{a}{b}'.format(a=' Nirmal',b=' Guvi'))"
   ]
  },
  {
   "cell_type": "code",
   "execution_count": 83,
   "metadata": {},
   "outputs": [
    {
     "name": "stdout",
     "output_type": "stream",
     "text": [
      "{257, 85, 669, 555, 45}\n"
     ]
    }
   ],
   "source": [
    "#Set - {}\n",
    "#Removes the 1st duplicate in a set.\n",
    "#Set is Unordered.\n",
    "\n",
    "a={85,669,45,257,555,555,669}\n",
    "print(a)"
   ]
  },
  {
   "cell_type": "code",
   "execution_count": 85,
   "metadata": {},
   "outputs": [
    {
     "name": "stdout",
     "output_type": "stream",
     "text": [
      "Nirmal\n"
     ]
    }
   ],
   "source": [
    "#Dictionary - {}\n",
    "# It is a key : Value Pair {k:v}\n",
    "# DIctionary is unordered before version 3.8 / 3.10 but now its ordered using hashtable (but index is not accessible)\n",
    "\n",
    "a={'Name':'Nirmal', 'Age': 33, 'City':'Chennai'}\n",
    "print(a['Name'])"
   ]
  },
  {
   "cell_type": "code",
   "execution_count": 1,
   "metadata": {},
   "outputs": [
    {
     "name": "stdout",
     "output_type": "stream",
     "text": [
      "{25, 34, 58, 22}\n"
     ]
    }
   ],
   "source": [
    "a= {25,34,58,34,22,25}\n",
    "print(a)"
   ]
  },
  {
   "cell_type": "code",
   "execution_count": 8,
   "metadata": {},
   "outputs": [
    {
     "name": "stdout",
     "output_type": "stream",
     "text": [
      "{'name': 'madan', 'age': 23, 'hobbies': ['playing batminton', 'watching youtube']}\n",
      "madan\n",
      "{'name': 'madan', 'age': 23, 'hobbies': ['playing batminton', 'watching youtube'], 'phone': 9976}\n",
      "{'name': 'madan', 'age': 23, 'hobbies': ['playing batminton', 'watching youtube'], 'phone': 9789}\n",
      "{'name': 'madan', 'hobbies': ['playing batminton', 'watching youtube'], 'phone': 9789}\n",
      "dict_keys(['name', 'hobbies', 'phone'])\n",
      "dict_values(['madan', ['playing batminton', 'watching youtube'], 9789])\n",
      "dict_items([('name', 'madan'), ('hobbies', ['playing batminton', 'watching youtube']), ('phone', 9789)])\n"
     ]
    }
   ],
   "source": [
    "a = {\"name\":\"madan\",\"age\":23,\"hobbies\":[\"playing batminton\",\"watching youtube\"]}\n",
    "print(a)\n",
    "print(a[\"name\"])\n",
    "a[\"phone\"] = 9976\n",
    "print(a)\n",
    "a[\"phone\"] = 9789\n",
    "print(a)\n",
    "del a[\"age\"]\n",
    "print(a)\n",
    "print(a.keys())\n",
    "print(a.values())\n",
    "print(a.items())"
   ]
  },
  {
   "cell_type": "code",
   "execution_count": 5,
   "metadata": {},
   "outputs": [
    {
     "name": "stdout",
     "output_type": "stream",
     "text": [
      "{1: 1}\n",
      "{2: 2}\n",
      "{3: 3}\n",
      "{4: 4}\n",
      "{5: 5}\n"
     ]
    }
   ],
   "source": [
    "a=[1,2,3,4,5] \n",
    "for i in a:\n",
    "    print({i:i})"
   ]
  },
  {
   "cell_type": "code",
   "execution_count": 20,
   "metadata": {},
   "outputs": [
    {
     "name": "stdout",
     "output_type": "stream",
     "text": [
      "hello world\n",
      "respond from others\n"
     ]
    }
   ],
   "source": [
    "#functions and its usage\n",
    "def hello():\n",
    "    print(\"hello world\")\n",
    "    return \"respond from others\"\n"
   ]
  },
  {
   "cell_type": "code",
   "execution_count": 24,
   "metadata": {},
   "outputs": [
    {
     "name": "stdout",
     "output_type": "stream",
     "text": [
      "hello world\n",
      "respond from others\n"
     ]
    }
   ],
   "source": [
    "a = hello()\n",
    "print(a)"
   ]
  },
  {
   "cell_type": "code",
   "execution_count": 1,
   "metadata": {},
   "outputs": [
    {
     "name": "stdout",
     "output_type": "stream",
     "text": [
      "MADANis of length5\n"
     ]
    }
   ],
   "source": [
    "def abc(x):\n",
    "    y=x.upper()\n",
    "    z=len(x)\n",
    "    return y+ \"is of length\"+ str(z)\n",
    "l=abc(\"madan\")\n",
    "print(l)\n"
   ]
  },
  {
   "cell_type": "code",
   "execution_count": 2,
   "metadata": {},
   "outputs": [],
   "source": [
    "#arguments and parameters are(inside)\n",
    "\n",
    "def bank(name,acc,accty =\"savings\"): #accty is a default argument in this example and also default arguments comes after positional arguments\n",
    "    return name,acc,accty"
   ]
  },
  {
   "cell_type": "code",
   "execution_count": 4,
   "metadata": {},
   "outputs": [
    {
     "data": {
      "text/plain": [
       "('madan', 8675, 'savings')"
      ]
     },
     "execution_count": 4,
     "metadata": {},
     "output_type": "execute_result"
    }
   ],
   "source": [
    "bank(\"madan\",8675) #or"
   ]
  },
  {
   "cell_type": "code",
   "execution_count": 5,
   "metadata": {},
   "outputs": [
    {
     "data": {
      "text/plain": [
       "('madan', 8765, 'demat')"
      ]
     },
     "execution_count": 5,
     "metadata": {},
     "output_type": "execute_result"
    }
   ],
   "source": [
    "bank(\"madan\",8765,\"demat\")"
   ]
  },
  {
   "cell_type": "code",
   "execution_count": 6,
   "metadata": {},
   "outputs": [
    {
     "data": {
      "text/plain": [
       "('mehaa', 7654, 'fd')"
      ]
     },
     "execution_count": 6,
     "metadata": {},
     "output_type": "execute_result"
    }
   ],
   "source": [
    "bank(acc= 7654,name=\"mehaa\",accty=\"fd\") #keyword argument"
   ]
  },
  {
   "cell_type": "code",
   "execution_count": 7,
   "metadata": {},
   "outputs": [
    {
     "name": "stdout",
     "output_type": "stream",
     "text": [
      "1\n",
      "2\n",
      "3\n",
      "4\n",
      "5\n",
      "6\n",
      "7\n"
     ]
    }
   ],
   "source": [
    "def fbaccount(*data): #arbitary/variable arguments and * collect data in single thing\n",
    "    for i in data: #* means everything and unpacked\n",
    "        print(i)\n",
    "fbaccount(1,2,3,4,5,6,7)"
   ]
  },
  {
   "cell_type": "code",
   "execution_count": 12,
   "metadata": {},
   "outputs": [
    {
     "name": "stdout",
     "output_type": "stream",
     "text": [
      "madan red\n",
      "1\n",
      "2\n",
      "3\n",
      "4\n",
      "5\n"
     ]
    }
   ],
   "source": [
    "def fbaccount (name,*data,colour =\"green\"):\n",
    "    print(name,colour)\n",
    "    for i in data:\n",
    "        print(i)    \n",
    "fbaccount(\"madan\",1,2,3,4,5,colour=\"red\")\n",
    "\n"
   ]
  },
  {
   "cell_type": "code",
   "execution_count": 15,
   "metadata": {},
   "outputs": [
    {
     "name": "stdout",
     "output_type": "stream",
     "text": [
      "madan\n",
      "mehaa\n",
      "manimozhli\n",
      "hema\n"
     ]
    }
   ],
   "source": [
    "def fbaccount(*data): \n",
    "    for i in data: \n",
    "        print(i)\n",
    "fbaccount(\"madan\",\"mehaa\",\"manimozhli\",\"hema\")"
   ]
  },
  {
   "cell_type": "code",
   "execution_count": 23,
   "metadata": {},
   "outputs": [],
   "source": [
    "def guvi(**kw):\n",
    "    print(kw)\n",
    "    a = list(kw.keys())\n",
    "    print(a)\n",
    "    print(kw.keys())\n",
    "    print(kw.values())\n",
    "    print(kw.items())\n",
    "    return kw.keys ()\n"
   ]
  },
  {
   "cell_type": "code",
   "execution_count": 24,
   "metadata": {},
   "outputs": [
    {
     "name": "stdout",
     "output_type": "stream",
     "text": [
      "{'name': 'madan', 'pair': 'mehaa', 'hometown': 'chennai'}\n",
      "['name', 'pair', 'hometown']\n",
      "dict_keys(['name', 'pair', 'hometown'])\n",
      "dict_values(['madan', 'mehaa', 'chennai'])\n",
      "dict_items([('name', 'madan'), ('pair', 'mehaa'), ('hometown', 'chennai')])\n"
     ]
    },
    {
     "data": {
      "text/plain": [
       "dict_keys(['name', 'pair', 'hometown'])"
      ]
     },
     "execution_count": 24,
     "metadata": {},
     "output_type": "execute_result"
    }
   ],
   "source": [
    "guvi(name = \"madan\", pair =\"mehaa\",hometown =\"chennai\")"
   ]
  },
  {
   "cell_type": "code",
   "execution_count": 31,
   "metadata": {},
   "outputs": [],
   "source": [
    "#higher order function\n",
    "def name(x):\n",
    "   if x.islower():\n",
    "       return True\n",
    "   else:\n",
    "       return False\n",
    "\n",
    "\n",
    "def validation(x):\n",
    "   if x.isalpha() and name(x):\n",
    "       return \"all good\"\n",
    "   else:\n",
    "       return \"something wrong\"\n"
   ]
  },
  {
   "cell_type": "code",
   "execution_count": 32,
   "metadata": {},
   "outputs": [
    {
     "data": {
      "text/plain": [
       "'all good'"
      ]
     },
     "execution_count": 32,
     "metadata": {},
     "output_type": "execute_result"
    }
   ],
   "source": [
    "validation(\"madanss\")"
   ]
  },
  {
   "cell_type": "code",
   "execution_count": 28,
   "metadata": {},
   "outputs": [],
   "source": [
    "def name(x):\n",
    "   if x.islower():\n",
    "       return True\n",
    "   else:\n",
    "       return False\n",
    "\n",
    "\n",
    "def validation(x,tt):\n",
    "   if x.isalpha() and tt(x):\n",
    "       return \"all good\"\n",
    "   else:\n",
    "       return \"something wrong\""
   ]
  },
  {
   "cell_type": "code",
   "execution_count": 29,
   "metadata": {},
   "outputs": [
    {
     "data": {
      "text/plain": [
       "'all good'"
      ]
     },
     "execution_count": 29,
     "metadata": {},
     "output_type": "execute_result"
    }
   ],
   "source": [
    "validation(\"madanss\",name)"
   ]
  },
  {
   "cell_type": "code",
   "execution_count": 33,
   "metadata": {},
   "outputs": [
    {
     "name": "stdout",
     "output_type": "stream",
     "text": [
      "120\n"
     ]
    }
   ],
   "source": [
    "#recursive function\n",
    "def factorial(n): #base case: if n is 0 or 1\n",
    "    if n in(0,1): \n",
    "        return 1 #recursive case : n! = n * (n-1)\n",
    "    else:\n",
    "        return n* factorial(n-1)\n",
    "#example usage\n",
    "print(factorial(5))\n"
   ]
  },
  {
   "cell_type": "code",
   "execution_count": 34,
   "metadata": {},
   "outputs": [
    {
     "data": {
      "text/plain": [
       "100"
      ]
     },
     "execution_count": 34,
     "metadata": {},
     "output_type": "execute_result"
    }
   ],
   "source": [
    "d = 10 #global variable\n",
    "def hi():\n",
    "    s = d*10\n",
    "    return s\n",
    "hi()\n"
   ]
  },
  {
   "cell_type": "code",
   "execution_count": 1,
   "metadata": {},
   "outputs": [
    {
     "name": "stdout",
     "output_type": "stream",
     "text": [
      "15\n"
     ]
    }
   ],
   "source": [
    "x = lambda a : a+10 #lambda\n",
    "print(x(5))"
   ]
  },
  {
   "cell_type": "code",
   "execution_count": 3,
   "metadata": {},
   "outputs": [
    {
     "name": "stdout",
     "output_type": "stream",
     "text": [
      "20\n"
     ]
    }
   ],
   "source": [
    "z = lambda x,y : x*y\n",
    "print(z(5,4))"
   ]
  },
  {
   "cell_type": "code",
   "execution_count": 7,
   "metadata": {},
   "outputs": [
    {
     "name": "stdout",
     "output_type": "stream",
     "text": [
      "even\n"
     ]
    }
   ],
   "source": [
    "a = lambda a:  \"even\" if a%2==0 else \"odd\"\n",
    "print(a(10))"
   ]
  },
  {
   "cell_type": "code",
   "execution_count": 8,
   "metadata": {},
   "outputs": [
    {
     "name": "stdout",
     "output_type": "stream",
     "text": [
      "18\n",
      "24\n",
      "32\n"
     ]
    }
   ],
   "source": [
    "ages = [5, 12, 17, 18, 24, 32]\n",
    "\n",
    "def adult(x):\n",
    "  if x < 18:\n",
    "   return False\n",
    "  else:\n",
    "   return True\n",
    "\n",
    "adults = filter(adult, ages)\n",
    "\n",
    "for x in adults:\n",
    " print(x)\n"
   ]
  },
  {
   "cell_type": "code",
   "execution_count": 9,
   "metadata": {},
   "outputs": [
    {
     "name": "stdout",
     "output_type": "stream",
     "text": [
      "[18, 24, 32]\n"
     ]
    }
   ],
   "source": [
    "ages = [5, 12, 17, 18, 24, 32]\n",
    "\n",
    "def adult(x):\n",
    "  if x < 18:\n",
    "   return False\n",
    "  else:\n",
    "   return True\n",
    "\n",
    "adults = filter(adult, ages)\n",
    "\n",
    "print(list(adults))\n"
   ]
  },
  {
   "cell_type": "code",
   "execution_count": 10,
   "metadata": {},
   "outputs": [
    {
     "name": "stdout",
     "output_type": "stream",
     "text": [
      "['nirmal', 'hariharan', 'arivalagan']\n"
     ]
    }
   ],
   "source": [
    "name=[\"nirmal\",\"nishant\",\"hariharan\",\"arivalagan\"]\n",
    "\n",
    "def adipoli(x):\n",
    "   if \"a\" and \"r\" in x:\n",
    "       return True\n",
    "   else:\n",
    "       return False\n",
    "  \n",
    "veliyetram=filter(lambda x:True if \"a\" in x else False ,name)\n",
    "veliyetram1=filter(adipoli ,name)\n",
    "print(list(veliyetram1))\n"
   ]
  },
  {
   "cell_type": "code",
   "execution_count": 11,
   "metadata": {},
   "outputs": [
    {
     "name": "stdout",
     "output_type": "stream",
     "text": [
      "[3, 8, 6]\n"
     ]
    }
   ],
   "source": [
    "#map function\n",
    "#map(function, iterables)\n",
    "\n",
    "def myfunc(n):\n",
    "   return len(n)\n",
    "\n",
    "x = map(myfunc, ('cat', 'elephant', 'cherry'))\n",
    "#print(x)\n",
    "print(list(x))\n",
    "\n"
   ]
  },
  {
   "cell_type": "code",
   "execution_count": 14,
   "metadata": {},
   "outputs": [
    {
     "name": "stdout",
     "output_type": "stream",
     "text": [
      "['CAT', 'ELEPHANT', 'CHERRY']\n"
     ]
    }
   ],
   "source": [
    "def myfunc(n):\n",
    "   return n.upper()\n",
    "\n",
    "x = map(myfunc, ('cat', 'elephant', 'cherry'))\n",
    "#print(x)\n",
    "print(list(x))\n"
   ]
  },
  {
   "cell_type": "code",
   "execution_count": 15,
   "metadata": {},
   "outputs": [
    {
     "name": "stdout",
     "output_type": "stream",
     "text": [
      "[1, 3, 2, 4, 2]\n"
     ]
    }
   ],
   "source": [
    "a=\"nirmal is a good boy\"\n",
    "b=\"1 3 2 4 2\"\n",
    "x=map(int,b.split())\n",
    "print(list(x))\n"
   ]
  },
  {
   "cell_type": "code",
   "execution_count": 17,
   "metadata": {},
   "outputs": [
    {
     "name": "stdout",
     "output_type": "stream",
     "text": [
      "guvis data science\n",
      "guvis data science\n"
     ]
    }
   ],
   "source": [
    "#class, methods and objects\n",
    "\n",
    "class madan():\n",
    "    x =\"guvis data science\" #this motebook is just ******\n",
    "a =madan()\n",
    "b =madan()\n",
    "print(a.x)\n",
    "print(b.x)\n"
   ]
  },
  {
   "cell_type": "code",
   "execution_count": 21,
   "metadata": {},
   "outputs": [],
   "source": [
    "class human():\n",
    "    def __init__(self):\n",
    "        pass\n",
    "    def kidney(self):\n",
    "        return \"purifies blood\""
   ]
  },
  {
   "cell_type": "code",
   "execution_count": 22,
   "metadata": {},
   "outputs": [],
   "source": [
    "madan = human()\n",
    "guvi = human()"
   ]
  },
  {
   "cell_type": "code",
   "execution_count": 23,
   "metadata": {},
   "outputs": [
    {
     "data": {
      "text/plain": [
       "'purifies blood'"
      ]
     },
     "execution_count": 23,
     "metadata": {},
     "output_type": "execute_result"
    }
   ],
   "source": [
    "madan.kidney()"
   ]
  },
  {
   "cell_type": "code",
   "execution_count": 24,
   "metadata": {},
   "outputs": [],
   "source": [
    "class bank():\n",
    "    def __init__(self,name,acc,bal):\n",
    "        self.name = name\n",
    "        self.acc = acc\n",
    "        self.bal = bal\n",
    "\n",
    "    def deposite(self,amount):\n",
    "        self.bal = self.bal+amount\n",
    "        return \"your balance is\" + str(self.bal)\n",
    "    "
   ]
  },
  {
   "cell_type": "code",
   "execution_count": 25,
   "metadata": {},
   "outputs": [],
   "source": [
    "guvi = bank(\"guvipvt\",1234,1000000)"
   ]
  },
  {
   "cell_type": "code",
   "execution_count": 26,
   "metadata": {},
   "outputs": [],
   "source": [
    "madan = bank(\"madan\",4321,10000)"
   ]
  },
  {
   "cell_type": "code",
   "execution_count": 27,
   "metadata": {},
   "outputs": [
    {
     "data": {
      "text/plain": [
       "4321"
      ]
     },
     "execution_count": 27,
     "metadata": {},
     "output_type": "execute_result"
    }
   ],
   "source": [
    "madan.acc"
   ]
  },
  {
   "cell_type": "code",
   "execution_count": null,
   "metadata": {},
   "outputs": [],
   "source": []
  },
  {
   "cell_type": "code",
   "execution_count": null,
   "metadata": {},
   "outputs": [],
   "source": []
  },
  {
   "cell_type": "code",
   "execution_count": null,
   "metadata": {},
   "outputs": [],
   "source": []
  },
  {
   "cell_type": "code",
   "execution_count": 26,
   "metadata": {},
   "outputs": [],
   "source": [
    "#inheritance ( given below single inheritence)\n",
    "class father(): #super or parent class\n",
    "    def hair(self): \n",
    "        return \"black hair\"\n",
    "    \n",
    "class mother(): #multiple inheritence\n",
    "    def anbu(self):\n",
    "        return \"always unlimited\"\n",
    "    \n",
    "class son(father,mother): #children class or sub class\n",
    "    def nose(self):\n",
    "        return \"killi mooku\"\n",
    "    \n",
    "class grandson(son): #finally hierachel and hybrid inheritence\n",
    "    def brain(self):\n",
    "        return \"IQ100\" #multi level inheritence\n",
    "    def nose(self):\n",
    "        return \"chappa mooku\" #polymorphism\n"
   ]
  },
  {
   "cell_type": "code",
   "execution_count": 22,
   "metadata": {},
   "outputs": [
    {
     "name": "stdout",
     "output_type": "stream",
     "text": [
      "black hair\n",
      "killi mooku\n",
      "always unlimited\n"
     ]
    }
   ],
   "source": [
    "a = son()\n",
    "print(a.hair())\n",
    "print(a.nose())\n",
    "print(a.anbu())"
   ]
  },
  {
   "cell_type": "code",
   "execution_count": 28,
   "metadata": {},
   "outputs": [
    {
     "name": "stdout",
     "output_type": "stream",
     "text": [
      "black hair\n",
      "chappa mooku\n",
      "IQ100\n",
      "always unlimited\n"
     ]
    }
   ],
   "source": [
    "a = grandson()\n",
    "print(a.hair())\n",
    "print(a.nose()) #after polymorphism\n",
    "print(a.brain())\n",
    "print(a.anbu())"
   ]
  },
  {
   "cell_type": "code",
   "execution_count": 14,
   "metadata": {},
   "outputs": [
    {
     "data": {
      "text/plain": [
       "'killi mooku'"
      ]
     },
     "execution_count": 14,
     "metadata": {},
     "output_type": "execute_result"
    }
   ],
   "source": [
    "import guvi as g\n",
    "a= g.son()\n",
    "a.nose() #incomplete\n"
   ]
  },
  {
   "cell_type": "code",
   "execution_count": 31,
   "metadata": {},
   "outputs": [
    {
     "name": "stdout",
     "output_type": "stream",
     "text": [
      "100\n",
      "1000000\n",
      "-500\n"
     ]
    }
   ],
   "source": [
    "#without encapsulation\n",
    "class BankAccount:\n",
    "   def __init__(self, account_number, balance):\n",
    "       self.account_number = account_number\n",
    "       self.balance = balance  # Public attribute\n",
    "\n",
    "   def deposit(self, amount):\n",
    "       self.balance += amount\n",
    "       return self.balance\n",
    "\n",
    "   def withdraw(self, amount):\n",
    "       if amount > self.balance:\n",
    "           print(\"Insufficient funds!\")\n",
    "           return\n",
    "       self.balance -= amount\n",
    "       return self.balance\n",
    "\n",
    "   def get_balance(self):\n",
    "       return self.balance\n",
    "\n",
    "account = BankAccount(\"123456789\", 100)\n",
    "print(account.get_balance())  # 100\n",
    "\n",
    "\n",
    "# With the balance being public, we can change it directly, potentially causing data inconsistency or misuse:\n",
    "account.balance = 1000000\n",
    "print(account.get_balance())  # 1000000\n",
    "\n",
    "\n",
    "# Or even set it to nonsensical values:\n",
    "account.balance = -500\n",
    "print(account.get_balance())  # -500\n"
   ]
  },
  {
   "cell_type": "code",
   "execution_count": 32,
   "metadata": {},
   "outputs": [
    {
     "name": "stdout",
     "output_type": "stream",
     "text": [
      "100\n",
      "100\n",
      "100\n",
      "10100\n"
     ]
    }
   ],
   "source": [
    "#with encapsulation\n",
    "class BankAccount:\n",
    "   def __init__(self, account_number, balance):\n",
    "       self.account_number = account_number\n",
    "       self.__balance = balance  # Private attribute\n",
    "\n",
    "\n",
    "   def deposit(self, amount):\n",
    "       self.__balance += amount\n",
    "       return self.__balance\n",
    "\n",
    "   def withdraw(self, amount):\n",
    "       if amount > self.__balance:\n",
    "           print(\"Insufficient funds!\")\n",
    "           return\n",
    "       self.__balance -= amount\n",
    "       return self.__balance\n",
    "\n",
    "   def get_balance(self):\n",
    "       return self.__balance\n",
    "\n",
    "\n",
    "account = BankAccount(\"123456789\", 100)\n",
    "print(account.get_balance())  # 100\n",
    "\n",
    "\n",
    "# With the balance being public, we can change it directly, potentially causing data inconsistency or misuse:\n",
    "account.balance = 1000000\n",
    "print(account.get_balance())  # 1000000\n",
    "\n",
    "\n",
    "# Or even set it to nonsensical values:\n",
    "#account.balance = -500\n",
    "print(account.get_balance())  # -500\n",
    "\n",
    "\n",
    "account.deposit(10000)\n",
    "print(account.get_balance())\n"
   ]
  },
  {
   "cell_type": "code",
   "execution_count": 35,
   "metadata": {},
   "outputs": [
    {
     "name": "stderr",
     "output_type": "stream",
     "text": [
      "A subdirectory or file mehaa already exists.\n",
      "Error occurred while processing: mehaa.\n"
     ]
    }
   ],
   "source": [
    "#files and folder handling\n",
    "\n",
    "!mkdir mehaa #(make directory) folder creation\n"
   ]
  },
  {
   "cell_type": "code",
   "execution_count": 39,
   "metadata": {},
   "outputs": [
    {
     "ename": "FileNotFoundError",
     "evalue": "[WinError 3] The system cannot find the path specified: 'madan/mani/baby'",
     "output_type": "error",
     "traceback": [
      "\u001b[1;31m---------------------------------------------------------------------------\u001b[0m",
      "\u001b[1;31mFileNotFoundError\u001b[0m                         Traceback (most recent call last)",
      "Cell \u001b[1;32mIn[39], line 3\u001b[0m\n\u001b[0;32m      1\u001b[0m \u001b[38;5;66;03m#create the folder through python command\u001b[39;00m\n\u001b[0;32m      2\u001b[0m \u001b[38;5;28;01mimport\u001b[39;00m \u001b[38;5;21;01mos\u001b[39;00m\n\u001b[1;32m----> 3\u001b[0m \u001b[43mos\u001b[49m\u001b[38;5;241;43m.\u001b[39;49m\u001b[43mmkdir\u001b[49m\u001b[43m(\u001b[49m\u001b[38;5;124;43m\"\u001b[39;49m\u001b[38;5;124;43mmadan/mani/baby\u001b[39;49m\u001b[38;5;124;43m\"\u001b[39;49m\u001b[43m)\u001b[49m\n",
      "\u001b[1;31mFileNotFoundError\u001b[0m: [WinError 3] The system cannot find the path specified: 'madan/mani/baby'"
     ]
    }
   ],
   "source": [
    "#create the folder through python command\n",
    "import os\n",
    "os.mkdir(\"madan/mani/baby\")"
   ]
  }
 ],
 "metadata": {
  "kernelspec": {
   "display_name": "Python 3",
   "language": "python",
   "name": "python3"
  },
  "language_info": {
   "codemirror_mode": {
    "name": "ipython",
    "version": 3
   },
   "file_extension": ".py",
   "mimetype": "text/x-python",
   "name": "python",
   "nbconvert_exporter": "python",
   "pygments_lexer": "ipython3",
   "version": "3.12.2"
  }
 },
 "nbformat": 4,
 "nbformat_minor": 2
}
